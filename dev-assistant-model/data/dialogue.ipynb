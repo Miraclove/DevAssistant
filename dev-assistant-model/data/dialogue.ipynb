{
 "cells": [
  {
   "cell_type": "code",
   "execution_count": 1,
   "metadata": {},
   "outputs": [
    {
     "name": "stdout",
     "output_type": "stream",
     "text": [
      "There are 321 successfully-generated examples. Here are the first few:\n"
     ]
    },
    {
     "data": {
      "text/html": [
       "<div>\n",
       "<style scoped>\n",
       "    .dataframe tbody tr th:only-of-type {\n",
       "        vertical-align: middle;\n",
       "    }\n",
       "\n",
       "    .dataframe tbody tr th {\n",
       "        vertical-align: top;\n",
       "    }\n",
       "\n",
       "    .dataframe thead th {\n",
       "        text-align: right;\n",
       "    }\n",
       "</style>\n",
       "<table border=\"1\" class=\"dataframe\">\n",
       "  <thead>\n",
       "    <tr style=\"text-align: right;\">\n",
       "      <th></th>\n",
       "      <th>prompt</th>\n",
       "      <th>response</th>\n",
       "    </tr>\n",
       "  </thead>\n",
       "  <tbody>\n",
       "    <tr>\n",
       "      <th>354</th>\n",
       "      <td>如何获取行会成员列表？</td>\n",
       "      <td>```lua\\n-- 获取行会成员列表\\nfunction get_member_ids(g...</td>\n",
       "    </tr>\n",
       "    <tr>\n",
       "      <th>355</th>\n",
       "      <td>如何获取行会成员对象？</td>\n",
       "      <td>```lua\\n-- 获取行会成员对象\\nfunction get_member_info(...</td>\n",
       "    </tr>\n",
       "    <tr>\n",
       "      <th>356</th>\n",
       "      <td>如何设置lua拓展数据？</td>\n",
       "      <td>```lua\\n-- 设置lua拓展数据\\nfunction set_lua_ext(gui...</td>\n",
       "    </tr>\n",
       "    <tr>\n",
       "      <th>357</th>\n",
       "      <td>如何获取lua拓展数据？</td>\n",
       "      <td>```lua\\n-- 获取lua拓展数据\\nfunction get_lua_ext(gui...</td>\n",
       "    </tr>\n",
       "    <tr>\n",
       "      <th>358</th>\n",
       "      <td>如何广播给公会成员？</td>\n",
       "      <td>```lua\\n-- 广播给公会成员\\nfunction broadcast(guild_o...</td>\n",
       "    </tr>\n",
       "  </tbody>\n",
       "</table>\n",
       "</div>"
      ],
      "text/plain": [
       "           prompt                                           response\n",
       "354   如何获取行会成员列表？  ```lua\\n-- 获取行会成员列表\\nfunction get_member_ids(g...\n",
       "355   如何获取行会成员对象？  ```lua\\n-- 获取行会成员对象\\nfunction get_member_info(...\n",
       "356  如何设置lua拓展数据？  ```lua\\n-- 设置lua拓展数据\\nfunction set_lua_ext(gui...\n",
       "357  如何获取lua拓展数据？  ```lua\\n-- 获取lua拓展数据\\nfunction get_lua_ext(gui...\n",
       "358    如何广播给公会成员？  ```lua\\n-- 广播给公会成员\\nfunction broadcast(guild_o..."
      ]
     },
     "execution_count": 1,
     "metadata": {},
     "output_type": "execute_result"
    }
   ],
   "source": [
    "import pandas as pd\n",
    "import pickle\n",
    "\n",
    "file_path = '/home/uework/AiWeb/pwz/github/data/dataset/dialogue-lua/qa-cn-2.dat'\n",
    "with open(file_path, 'rb') as f:\n",
    "    examples = pickle.load(f)\n",
    "\n",
    "\n",
    "# Initialize lists to store prompts and responses\n",
    "prompts = []\n",
    "responses = []\n",
    "\n",
    "# Parse out prompts and responses from examples\n",
    "for example in examples:\n",
    "  try:\n",
    "    split_example = example.split('-----------')\n",
    "    if split_example[1].strip() and split_example[3].strip():\n",
    "        prompts.append(split_example[1].strip())\n",
    "        responses.append(split_example[3].strip())\n",
    "  except:\n",
    "    pass\n",
    "\n",
    "# Create a DataFrame\n",
    "df = pd.DataFrame({\n",
    "    'prompt': prompts,\n",
    "    'response': responses\n",
    "})\n",
    "\n",
    "# Remove duplicates\n",
    "df = df.drop_duplicates()\n",
    "\n",
    "print('There are ' + str(len(df)) + ' successfully-generated examples. Here are the first few:')\n",
    "\n",
    "df.to_csv('data_cn.csv',index=False)\n",
    "df.tail()\n",
    "\n"
   ]
  },
  {
   "cell_type": "code",
   "execution_count": 14,
   "metadata": {},
   "outputs": [
    {
     "name": "stderr",
     "output_type": "stream",
     "text": [
      "Found cached dataset csv (/home/uework/.cache/huggingface/datasets/csv/default-a30dc41485662cf5/0.0.0/6954658bab30a358235fa864b05cf819af0e179325c740e4bc853bcc7ec513e1)\n",
      "100%|██████████| 1/1 [00:00<00:00, 349.55it/s]\n",
      "                                                                                            \r"
     ]
    },
    {
     "data": {
      "text/plain": [
       "DatasetDict({\n",
       "    train: Dataset({\n",
       "        features: ['prompt', 'response', 'completion'],\n",
       "        num_rows: 303\n",
       "    })\n",
       "    test: Dataset({\n",
       "        features: ['prompt', 'response', 'completion'],\n",
       "        num_rows: 16\n",
       "    })\n",
       "})"
      ]
     },
     "execution_count": 14,
     "metadata": {},
     "output_type": "execute_result"
    }
   ],
   "source": [
    "from datasets import load_dataset\n",
    "\n",
    "dataset = load_dataset('csv', data_files={'data_cn.csv'})\n",
    "dataset = dataset['train']\n",
    "dataset = dataset.add_column(\"completion\",dataset['response'])\n",
    "dataset = dataset.train_test_split(0.05)\n",
    "dataset.save_to_disk('/home/uework/AiWeb/pwz/github/data/dataset/dialogue-lua')\n",
    "dataset"
   ]
  },
  {
   "cell_type": "code",
   "execution_count": 5,
   "metadata": {},
   "outputs": [
    {
     "name": "stdout",
     "output_type": "stream",
     "text": [
      "There are 171 successfully-generated examples. Here are the first few:\n"
     ]
    },
    {
     "data": {
      "text/html": [
       "<div>\n",
       "<style scoped>\n",
       "    .dataframe tbody tr th:only-of-type {\n",
       "        vertical-align: middle;\n",
       "    }\n",
       "\n",
       "    .dataframe tbody tr th {\n",
       "        vertical-align: top;\n",
       "    }\n",
       "\n",
       "    .dataframe thead th {\n",
       "        text-align: right;\n",
       "    }\n",
       "</style>\n",
       "<table border=\"1\" class=\"dataframe\">\n",
       "  <thead>\n",
       "    <tr style=\"text-align: right;\">\n",
       "      <th></th>\n",
       "      <th>prompt</th>\n",
       "    </tr>\n",
       "  </thead>\n",
       "  <tbody>\n",
       "    <tr>\n",
       "      <th>166</th>\n",
       "      <td>玩家放技能时我需要触发一些事件，有没有相关的API函数？</td>\n",
       "    </tr>\n",
       "    <tr>\n",
       "      <th>167</th>\n",
       "      <td>在玩家准备释放技能前我想执行一些操作，应该用哪个API函数？</td>\n",
       "    </tr>\n",
       "    <tr>\n",
       "      <th>168</th>\n",
       "      <td>玩家切换自动战斗模式时我需要做一些操作，有没有对应的API函数？</td>\n",
       "    </tr>\n",
       "    <tr>\n",
       "      <th>169</th>\n",
       "      <td>我想在玩家附加buff时进行一些操作，应该用哪个API函数？</td>\n",
       "    </tr>\n",
       "    <tr>\n",
       "      <th>170</th>\n",
       "      <td>当卸下buff时我想执行一些操作，我应该用哪个API函数？</td>\n",
       "    </tr>\n",
       "  </tbody>\n",
       "</table>\n",
       "</div>"
      ],
      "text/plain": [
       "                               prompt\n",
       "166      玩家放技能时我需要触发一些事件，有没有相关的API函数？\n",
       "167    在玩家准备释放技能前我想执行一些操作，应该用哪个API函数？\n",
       "168  玩家切换自动战斗模式时我需要做一些操作，有没有对应的API函数？\n",
       "169    我想在玩家附加buff时进行一些操作，应该用哪个API函数？\n",
       "170     当卸下buff时我想执行一些操作，我应该用哪个API函数？"
      ]
     },
     "execution_count": 5,
     "metadata": {},
     "output_type": "execute_result"
    }
   ],
   "source": [
    "import pickle\n",
    "import pandas as pd\n",
    "file_path = '/home/uework/AiWeb/pwz/github/data/prompt/q-cn-test.dat'\n",
    "with open(file_path, 'rb') as f:\n",
    "    examples = pickle.load(f)\n",
    "\n",
    "\n",
    "# Initialize lists to store prompts and responses\n",
    "prompts = []\n",
    "\n",
    "# Parse out prompts and responses from examples\n",
    "for example in examples:\n",
    "  try:\n",
    "    split_example = example.split('-----------')\n",
    "    if split_example[1].strip():\n",
    "        prompts.append(split_example[1].strip())\n",
    "  except:\n",
    "    pass\n",
    "\n",
    "# Create a DataFrame\n",
    "df = pd.DataFrame({\n",
    "    'prompt': prompts,\n",
    "})\n",
    "\n",
    "# Remove duplicates\n",
    "df = df.drop_duplicates()\n",
    "\n",
    "print('There are ' + str(len(df)) + ' successfully-generated examples. Here are the first few:')\n",
    "\n",
    "df.to_csv('/home/uework/AiWeb/pwz/github/data/prompt/test_quary.csv',index=False)\n",
    "df.tail()\n"
   ]
  },
  {
   "cell_type": "code",
   "execution_count": 1,
   "metadata": {},
   "outputs": [
    {
     "name": "stderr",
     "output_type": "stream",
     "text": [
      "/home/uework/.local/lib/python3.10/site-packages/tqdm/auto.py:22: TqdmWarning: IProgress not found. Please update jupyter and ipywidgets. See https://ipywidgets.readthedocs.io/en/stable/user_install.html\n",
      "  from .autonotebook import tqdm as notebook_tqdm\n"
     ]
    }
   ],
   "source": [
    "\n",
    "\n"
   ]
  },
  {
   "cell_type": "code",
   "execution_count": 6,
   "metadata": {},
   "outputs": [
    {
     "name": "stderr",
     "output_type": "stream",
     "text": [
      "100%|██████████| 9846/9846 [00:00<00:00, 99342.84it/s]\n",
      "100%|██████████| 518/518 [00:00<00:00, 127085.25it/s]\n",
      "Saving the dataset (1/1 shards): 100%|██████████| 9846/9846 [00:00<00:00, 426596.67 examples/s]\n",
      "Saving the dataset (1/1 shards): 100%|██████████| 518/518 [00:00<00:00, 107455.83 examples/s]\n"
     ]
    }
   ],
   "source": [
    "from utils import dialogue_to_json\n",
    "from tqdm import tqdm\n",
    "from datasets import DatasetDict\n",
    "from datasets import load_from_disk\n",
    "openassistant = load_from_disk('/home/uework/AiWeb/pwz/github/data/dataset/openassistant')\n",
    "train_json_list = []\n",
    "# train data\n",
    "for row in tqdm(openassistant['train']['text']):\n",
    "    # Convert to JSON format\n",
    "    json_data = dialogue_to_json(row)\n",
    "    # Append to list\n",
    "    train_json_list.append(json_data['messages'])\n",
    "test_json_list = []\n",
    "# test data\n",
    "for row in tqdm(openassistant['test']['text']):\n",
    "    # Convert to JSON format\n",
    "    json_data = dialogue_to_json(row)\n",
    "    # Append to list\n",
    "    test_json_list.append(json_data['messages'])\n",
    "# create dataset\n",
    "train_dataset = openassistant['train'].add_column('messages', train_json_list)\n",
    "test_dataset = openassistant['test'].add_column('messages', test_json_list)\n",
    "# save dataset\n",
    "openassistant_json = DatasetDict({\n",
    "    'train': train_dataset,\n",
    "    'test': test_dataset\n",
    "})\n",
    "openassistant_json.save_to_disk('/home/uework/AiWeb/pwz/github/data/dataset/openassistant_json')\n",
    "openassistant_json\n",
    "    "
   ]
  }
 ],
 "metadata": {
  "kernelspec": {
   "display_name": "chat",
   "language": "python",
   "name": "python3"
  },
  "language_info": {
   "codemirror_mode": {
    "name": "ipython",
    "version": 3
   },
   "file_extension": ".py",
   "mimetype": "text/x-python",
   "name": "python",
   "nbconvert_exporter": "python",
   "pygments_lexer": "ipython3",
   "version": "3.10.13"
  },
  "orig_nbformat": 4
 },
 "nbformat": 4,
 "nbformat_minor": 2
}
