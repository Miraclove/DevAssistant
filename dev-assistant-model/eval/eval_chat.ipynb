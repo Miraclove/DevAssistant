{
 "cells": [
  {
   "cell_type": "code",
   "execution_count": 1,
   "metadata": {},
   "outputs": [
    {
     "name": "stderr",
     "output_type": "stream",
     "text": [
      "/home/uework/.local/lib/python3.10/site-packages/tqdm/auto.py:22: TqdmWarning: IProgress not found. Please update jupyter and ipywidgets. See https://ipywidgets.readthedocs.io/en/stable/user_install.html\n",
      "  from .autonotebook import tqdm as notebook_tqdm\n",
      "2023-09-04 10:12:06.194793: I tensorflow/core/platform/cpu_feature_guard.cc:182] This TensorFlow binary is optimized to use available CPU instructions in performance-critical operations.\n",
      "To enable the following instructions: AVX2 AVX512F FMA, in other operations, rebuild TensorFlow with the appropriate compiler flags.\n",
      "2023-09-04 10:12:06.845689: W tensorflow/compiler/tf2tensorrt/utils/py_utils.cc:38] TF-TRT Warning: Could not find TensorRT\n"
     ]
    },
    {
     "name": "stdout",
     "output_type": "stream",
     "text": [
      "Loading model...\n",
      "Loaded 171 prompts from /home/uework/AiWeb/pwz/github/data/prompt/test_quary.csv\n",
      "Generating output for 171 prompts...\n"
     ]
    },
    {
     "name": "stderr",
     "output_type": "stream",
     "text": [
      "  0%|          | 0/171 [00:00<?, ?it/s]Asking to truncate to max_length but no maximum length is provided and the model has no predefined maximum length. Default to no truncation.\n",
      "/home/uework/miniconda3/envs/chat/lib/python3.10/site-packages/transformers/generation/utils.py:1219: UserWarning: You have modified the pretrained model configuration to control generation. This is a deprecated strategy to control generation and will be removed soon, in a future version. Please use a generation configuration file (see https://huggingface.co/docs/transformers/main_classes/text_generation)\n",
      "  warnings.warn(\n",
      "100%|██████████| 171/171 [21:58<00:00,  7.71s/it]\n"
     ]
    },
    {
     "name": "stdout",
     "output_type": "stream",
     "text": [
      "Loading all apis...\n",
      "Matching function names in generated output...\n"
     ]
    },
    {
     "name": "stderr",
     "output_type": "stream",
     "text": [
      "100%|██████████| 171/171 [00:00<00:00, 44609.15it/s]"
     ]
    },
    {
     "name": "stdout",
     "output_type": "stream",
     "text": [
      "Generating report...\n",
      "Report saved to  /home/uework/AiWeb/pwz/github/model/luachat/beta3/test_report-55.md\n"
     ]
    },
    {
     "name": "stderr",
     "output_type": "stream",
     "text": [
      "\n"
     ]
    }
   ],
   "source": [
    "%load_ext autoreload\n",
    "%autoreload 2\n",
    "from eval import *\n",
    "import torch\n",
    "from transformers import AutoModelForCausalLM, AutoTokenizer,BitsAndBytesConfig\n",
    "import time\n",
    "import pandas as pd\n",
    "\n",
    "config = {\n",
    "    'model_path': '/home/uework/AiWeb/pwz/github/model/luachat/beta3/checkpoint-55',\n",
    "    'api_path': '/home/uework/AiWeb/pwz/github/data/json/api-doc',\n",
    "    'test_data_path': '/home/uework/AiWeb/pwz/github/data/prompt/test_quary.csv',\n",
    "    'output_path': '/home/uework/AiWeb/pwz/github/model/luachat/beta3/test_result-55.csv',\n",
    "    'report_output_path': '/home/uework/AiWeb/pwz/github/model/luachat/beta3/test_report-55.md',\n",
    "    'batch_size': 1,\n",
    "    'max_length': 512,\n",
    "    'temperature': 1.0,\n",
    "    'top_k': 50,\n",
    "    'top_p': 0.95\n",
    "}\n",
    "config = Config(config)\n",
    "\n",
    "\n",
    "start_time = time.time()\n",
    "# load model\n",
    "print(\"Loading model...\")\n",
    "quantization_config = BitsAndBytesConfig(\n",
    "    load_in_4bit=True,\n",
    "    bnb_4bit_compute_dtype=torch.float16\n",
    ")\n",
    "model = AutoModelForCausalLM.from_pretrained(config.model_path,quantization_config=quantization_config)\n",
    "tokenizer = AutoTokenizer.from_pretrained(config.model_path)\n",
    "tokenizer.pad_token = tokenizer.eos_token\n",
    "\n",
    "# load test file\n",
    "\n",
    "df = pd.read_csv(config.test_data_path)\n",
    "\n",
    "print(f\"Loaded {len(df)} prompts from {config.test_data_path}\")\n",
    "# generate output\n",
    "prompts = df['prompt'].tolist()\n",
    "\n",
    "print(f\"Generating output for {len(prompts)} prompts...\")\n",
    "# generated_sequences = generate_output(model,tokenizer,config,prompts)\n",
    "generated_sequences = generate_output_with_batch(model,tokenizer,config,prompts,batch_size=config.batch_size)\n",
    "\n",
    "# save output\n",
    "df['generated'] = generated_sequences\n",
    "print(f\"Saving output to {config.output_path}...\")\n",
    "df.to_csv(config.output_path,index=False)\n",
    "\n",
    "# get all apis\n",
    "print(\"Loading all apis...\")\n",
    "all_apis = find_all_apis(config.api_path)\n",
    "\n",
    "# match function name in generated output\n",
    "print(\"Matching function names in generated output...\")\n",
    "df = eval_output(df,config,all_apis)\n",
    "print(f\"Saving output to {config.output_path}...\")\n",
    "df.to_csv(config.output_path,index=False)\n",
    "\n",
    "\n",
    "# Stop the timer\n",
    "end_time = time.time()\n",
    "\n",
    "# Calculate elapsed time\n",
    "elapsed_time = end_time - start_time\n",
    "\n",
    "# Convert elapsed time into minutes and seconds\n",
    "minutes = int(elapsed_time // 60)\n",
    "seconds = int(elapsed_time % 60)\n",
    "\n",
    "# Print in the desired format\n",
    "duration_str = f'{minutes}:{seconds:02}'\n",
    "# generate report\n",
    "print(\"Generating report...\")\n",
    "generate_report(df,config,duration_str)"
   ]
  },
  {
   "cell_type": "code",
   "execution_count": 10,
   "metadata": {},
   "outputs": [],
   "source": [
    "import torch\n",
    "from transformers import pipeline, AutoModelForCausalLM, AutoTokenizer\n",
    "model_path = '/home/uework/AiWeb/pwz/github/model/luachat/beta3/checkpoint-66'\n",
    "model = AutoModelForCausalLM.from_pretrained(model_path)\n",
    "tokenizer = AutoTokenizer.from_pretrained(model_path)\n",
    "tokenizer.pad_token = tokenizer.eos_token\n",
    "pipe = pipeline(\"text-generation\", model=model,tokenizer=tokenizer, device=\"cuda:0\")\n",
    "prompt_template = \"<|system|>\\n<|end|>\\n<|user|>\\n{query}<|end|>\\n<|assistant|>\""
   ]
  },
  {
   "cell_type": "code",
   "execution_count": 12,
   "metadata": {},
   "outputs": [
    {
     "name": "stderr",
     "output_type": "stream",
     "text": [
      "Setting `pad_token_id` to `eos_token_id`:49155 for open-end generation.\n"
     ]
    },
    {
     "name": "stdout",
     "output_type": "stream",
     "text": [
      "<|system|>\n",
      "<|end|>\n",
      "<|user|>\n",
      "如何检测一个对象是否是怪物？<|end|>\n",
      "<|assistant|>\n",
      "```lua\n",
      "function is_monster(obj)\n",
      "    local type = edi.object:get_type(obj)\n",
      "    return type == ConstDef.OBJ_TYPE_MONSTER\n",
      "end\n",
      "```\n",
      "要判断一个对象是否是怪物，你可以使用`edi.object:get_type`函数来获取对象类型的数字。如果对象是怪物，返回`true`，否则返回`false`。\n"
     ]
    }
   ],
   "source": [
    "prompt = prompt_template.format(query=\"如何检测一个对象是否是怪物？\")\n",
    "# We use a special <|end|> token with ID 49155 to denote ends of a turn\n",
    "outputs = pipe(prompt, max_new_tokens=256, do_sample=True, temperature=1.0, top_k=50, top_p=0.95, eos_token_id=49155)\n",
    "print(outputs[0]['generated_text'])"
   ]
  },
  {
   "cell_type": "code",
   "execution_count": null,
   "metadata": {},
   "outputs": [],
   "source": [
    "# Encode a list of prompts\n",
    "input_ids = tokenizer(prompts, return_tensors='pt', padding=True, truncation=True).input_ids\n",
    "\n",
    "# Generate multiple samples\n",
    "output = model.generate(input_ids, max_length=50, num_return_sequences=2, pad_token_id=tokenizer.eos_token_id)\n",
    "\n",
    "# Decode and print the generated sequences\n",
    "for i, prompt in enumerate(prompts):\n",
    "    generated_sequences = [tokenizer.decode(output_seq, skip_special_tokens=True) for output_seq in output[i*2:(i+1)*2]]\n",
    "    print(f\"Prompt: {prompt}\")\n",
    "    for j, sequence in enumerate(generated_sequences):\n",
    "        print(f\"Sample {j+1}: {sequence}\")\n",
    "    print(\"\\n\")"
   ]
  },
  {
   "cell_type": "code",
   "execution_count": 1,
   "metadata": {},
   "outputs": [
    {
     "name": "stderr",
     "output_type": "stream",
     "text": [
      "/home/uework/miniconda3/envs/vllm/lib/python3.8/site-packages/tqdm/auto.py:21: TqdmWarning: IProgress not found. Please update jupyter and ipywidgets. See https://ipywidgets.readthedocs.io/en/stable/user_install.html\n",
      "  from .autonotebook import tqdm as notebook_tqdm\n"
     ]
    },
    {
     "ename": "KeyboardInterrupt",
     "evalue": "",
     "output_type": "error",
     "traceback": [
      "\u001b[0;31m---------------------------------------------------------------------------\u001b[0m",
      "\u001b[0;31mKeyboardInterrupt\u001b[0m                         Traceback (most recent call last)",
      "Cell \u001b[0;32mIn[1], line 9\u001b[0m\n\u001b[1;32m      7\u001b[0m model_path \u001b[39m=\u001b[39m \u001b[39m'\u001b[39m\u001b[39m/home/uework/AiWeb/pwz/github/model/luachat/beta3/checkpoint-66\u001b[39m\u001b[39m'\u001b[39m\n\u001b[1;32m      8\u001b[0m tokenizer \u001b[39m=\u001b[39m AutoTokenizer\u001b[39m.\u001b[39mfrom_pretrained(model_path)\n\u001b[0;32m----> 9\u001b[0m model \u001b[39m=\u001b[39m AutoModelForCausalLM\u001b[39m.\u001b[39;49mfrom_pretrained(model_path,torch_dtype\u001b[39m=\u001b[39;49m\u001b[39m'\u001b[39;49m\u001b[39mauto\u001b[39;49m\u001b[39m'\u001b[39;49m,quantization_config\u001b[39m=\u001b[39;49mquantization_config)\n",
      "File \u001b[0;32m~/miniconda3/envs/vllm/lib/python3.8/site-packages/transformers/models/auto/auto_factory.py:563\u001b[0m, in \u001b[0;36m_BaseAutoModelClass.from_pretrained\u001b[0;34m(cls, pretrained_model_name_or_path, *model_args, **kwargs)\u001b[0m\n\u001b[1;32m    561\u001b[0m \u001b[39melif\u001b[39;00m \u001b[39mtype\u001b[39m(config) \u001b[39min\u001b[39;00m \u001b[39mcls\u001b[39m\u001b[39m.\u001b[39m_model_mapping\u001b[39m.\u001b[39mkeys():\n\u001b[1;32m    562\u001b[0m     model_class \u001b[39m=\u001b[39m _get_model_class(config, \u001b[39mcls\u001b[39m\u001b[39m.\u001b[39m_model_mapping)\n\u001b[0;32m--> 563\u001b[0m     \u001b[39mreturn\u001b[39;00m model_class\u001b[39m.\u001b[39;49mfrom_pretrained(\n\u001b[1;32m    564\u001b[0m         pretrained_model_name_or_path, \u001b[39m*\u001b[39;49mmodel_args, config\u001b[39m=\u001b[39;49mconfig, \u001b[39m*\u001b[39;49m\u001b[39m*\u001b[39;49mhub_kwargs, \u001b[39m*\u001b[39;49m\u001b[39m*\u001b[39;49mkwargs\n\u001b[1;32m    565\u001b[0m     )\n\u001b[1;32m    566\u001b[0m \u001b[39mraise\u001b[39;00m \u001b[39mValueError\u001b[39;00m(\n\u001b[1;32m    567\u001b[0m     \u001b[39mf\u001b[39m\u001b[39m\"\u001b[39m\u001b[39mUnrecognized configuration class \u001b[39m\u001b[39m{\u001b[39;00mconfig\u001b[39m.\u001b[39m\u001b[39m__class__\u001b[39m\u001b[39m}\u001b[39;00m\u001b[39m for this kind of AutoModel: \u001b[39m\u001b[39m{\u001b[39;00m\u001b[39mcls\u001b[39m\u001b[39m.\u001b[39m\u001b[39m__name__\u001b[39m\u001b[39m}\u001b[39;00m\u001b[39m.\u001b[39m\u001b[39m\\n\u001b[39;00m\u001b[39m\"\u001b[39m\n\u001b[1;32m    568\u001b[0m     \u001b[39mf\u001b[39m\u001b[39m\"\u001b[39m\u001b[39mModel type should be one of \u001b[39m\u001b[39m{\u001b[39;00m\u001b[39m'\u001b[39m\u001b[39m, \u001b[39m\u001b[39m'\u001b[39m\u001b[39m.\u001b[39mjoin(c\u001b[39m.\u001b[39m\u001b[39m__name__\u001b[39m\u001b[39m \u001b[39m\u001b[39mfor\u001b[39;00m\u001b[39m \u001b[39mc\u001b[39m \u001b[39m\u001b[39min\u001b[39;00m\u001b[39m \u001b[39m\u001b[39mcls\u001b[39m\u001b[39m.\u001b[39m_model_mapping\u001b[39m.\u001b[39mkeys())\u001b[39m}\u001b[39;00m\u001b[39m.\u001b[39m\u001b[39m\"\u001b[39m\n\u001b[1;32m    569\u001b[0m )\n",
      "File \u001b[0;32m~/miniconda3/envs/vllm/lib/python3.8/site-packages/transformers/modeling_utils.py:2883\u001b[0m, in \u001b[0;36mPreTrainedModel.from_pretrained\u001b[0;34m(cls, pretrained_model_name_or_path, config, cache_dir, ignore_mismatched_sizes, force_download, local_files_only, token, revision, use_safetensors, *model_args, **kwargs)\u001b[0m\n\u001b[1;32m   2880\u001b[0m \u001b[39mif\u001b[39;00m from_pt:\n\u001b[1;32m   2881\u001b[0m     \u001b[39mif\u001b[39;00m \u001b[39mnot\u001b[39;00m is_sharded \u001b[39mand\u001b[39;00m state_dict \u001b[39mis\u001b[39;00m \u001b[39mNone\u001b[39;00m:\n\u001b[1;32m   2882\u001b[0m         \u001b[39m# Time to load the checkpoint\u001b[39;00m\n\u001b[0;32m-> 2883\u001b[0m         state_dict \u001b[39m=\u001b[39m load_state_dict(resolved_archive_file)\n\u001b[1;32m   2885\u001b[0m     \u001b[39m# set dtype to instantiate the model under:\u001b[39;00m\n\u001b[1;32m   2886\u001b[0m     \u001b[39m# 1. If torch_dtype is not None, we use that dtype\u001b[39;00m\n\u001b[1;32m   2887\u001b[0m     \u001b[39m# 2. If torch_dtype is \"auto\", we auto-detect dtype from the loaded state_dict, by checking its first\u001b[39;00m\n\u001b[1;32m   2888\u001b[0m     \u001b[39m#    weights entry that is of a floating type - we assume all floating dtype weights are of the same dtype\u001b[39;00m\n\u001b[1;32m   2889\u001b[0m     \u001b[39m# we also may have config.torch_dtype available, but we won't rely on it till v5\u001b[39;00m\n\u001b[1;32m   2890\u001b[0m     dtype_orig \u001b[39m=\u001b[39m \u001b[39mNone\u001b[39;00m\n",
      "File \u001b[0;32m~/miniconda3/envs/vllm/lib/python3.8/site-packages/transformers/modeling_utils.py:488\u001b[0m, in \u001b[0;36mload_state_dict\u001b[0;34m(checkpoint_file)\u001b[0m\n\u001b[1;32m    486\u001b[0m     \u001b[39melse\u001b[39;00m:\n\u001b[1;32m    487\u001b[0m         map_location \u001b[39m=\u001b[39m \u001b[39m\"\u001b[39m\u001b[39mcpu\u001b[39m\u001b[39m\"\u001b[39m\n\u001b[0;32m--> 488\u001b[0m     \u001b[39mreturn\u001b[39;00m torch\u001b[39m.\u001b[39;49mload(checkpoint_file, map_location\u001b[39m=\u001b[39;49mmap_location)\n\u001b[1;32m    489\u001b[0m \u001b[39mexcept\u001b[39;00m \u001b[39mException\u001b[39;00m \u001b[39mas\u001b[39;00m e:\n\u001b[1;32m    490\u001b[0m     \u001b[39mtry\u001b[39;00m:\n",
      "File \u001b[0;32m~/miniconda3/envs/vllm/lib/python3.8/site-packages/torch/serialization.py:809\u001b[0m, in \u001b[0;36mload\u001b[0;34m(f, map_location, pickle_module, weights_only, **pickle_load_args)\u001b[0m\n\u001b[1;32m    807\u001b[0m             \u001b[39mexcept\u001b[39;00m \u001b[39mRuntimeError\u001b[39;00m \u001b[39mas\u001b[39;00m e:\n\u001b[1;32m    808\u001b[0m                 \u001b[39mraise\u001b[39;00m pickle\u001b[39m.\u001b[39mUnpicklingError(UNSAFE_MESSAGE \u001b[39m+\u001b[39m \u001b[39mstr\u001b[39m(e)) \u001b[39mfrom\u001b[39;00m \u001b[39mNone\u001b[39;00m\n\u001b[0;32m--> 809\u001b[0m         \u001b[39mreturn\u001b[39;00m _load(opened_zipfile, map_location, pickle_module, \u001b[39m*\u001b[39;49m\u001b[39m*\u001b[39;49mpickle_load_args)\n\u001b[1;32m    810\u001b[0m \u001b[39mif\u001b[39;00m weights_only:\n\u001b[1;32m    811\u001b[0m     \u001b[39mtry\u001b[39;00m:\n",
      "File \u001b[0;32m~/miniconda3/envs/vllm/lib/python3.8/site-packages/torch/serialization.py:1172\u001b[0m, in \u001b[0;36m_load\u001b[0;34m(zip_file, map_location, pickle_module, pickle_file, **pickle_load_args)\u001b[0m\n\u001b[1;32m   1170\u001b[0m unpickler \u001b[39m=\u001b[39m UnpicklerWrapper(data_file, \u001b[39m*\u001b[39m\u001b[39m*\u001b[39mpickle_load_args)\n\u001b[1;32m   1171\u001b[0m unpickler\u001b[39m.\u001b[39mpersistent_load \u001b[39m=\u001b[39m persistent_load\n\u001b[0;32m-> 1172\u001b[0m result \u001b[39m=\u001b[39m unpickler\u001b[39m.\u001b[39;49mload()\n\u001b[1;32m   1174\u001b[0m torch\u001b[39m.\u001b[39m_utils\u001b[39m.\u001b[39m_validate_loaded_sparse_tensors()\n\u001b[1;32m   1176\u001b[0m \u001b[39mreturn\u001b[39;00m result\n",
      "File \u001b[0;32m~/miniconda3/envs/vllm/lib/python3.8/site-packages/torch/serialization.py:1142\u001b[0m, in \u001b[0;36m_load.<locals>.persistent_load\u001b[0;34m(saved_id)\u001b[0m\n\u001b[1;32m   1140\u001b[0m \u001b[39melse\u001b[39;00m:\n\u001b[1;32m   1141\u001b[0m     nbytes \u001b[39m=\u001b[39m numel \u001b[39m*\u001b[39m torch\u001b[39m.\u001b[39m_utils\u001b[39m.\u001b[39m_element_size(dtype)\n\u001b[0;32m-> 1142\u001b[0m     typed_storage \u001b[39m=\u001b[39m load_tensor(dtype, nbytes, key, _maybe_decode_ascii(location))\n\u001b[1;32m   1144\u001b[0m \u001b[39mreturn\u001b[39;00m typed_storage\n",
      "File \u001b[0;32m~/miniconda3/envs/vllm/lib/python3.8/site-packages/torch/serialization.py:1112\u001b[0m, in \u001b[0;36m_load.<locals>.load_tensor\u001b[0;34m(dtype, numel, key, location)\u001b[0m\n\u001b[1;32m   1109\u001b[0m \u001b[39mdef\u001b[39;00m \u001b[39mload_tensor\u001b[39m(dtype, numel, key, location):\n\u001b[1;32m   1110\u001b[0m     name \u001b[39m=\u001b[39m \u001b[39mf\u001b[39m\u001b[39m'\u001b[39m\u001b[39mdata/\u001b[39m\u001b[39m{\u001b[39;00mkey\u001b[39m}\u001b[39;00m\u001b[39m'\u001b[39m\n\u001b[0;32m-> 1112\u001b[0m     storage \u001b[39m=\u001b[39m zip_file\u001b[39m.\u001b[39;49mget_storage_from_record(name, numel, torch\u001b[39m.\u001b[39;49mUntypedStorage)\u001b[39m.\u001b[39m_typed_storage()\u001b[39m.\u001b[39m_untyped_storage\n\u001b[1;32m   1113\u001b[0m     \u001b[39m# TODO: Once we decide to break serialization FC, we can\u001b[39;00m\n\u001b[1;32m   1114\u001b[0m     \u001b[39m# stop wrapping with TypedStorage\u001b[39;00m\n\u001b[1;32m   1115\u001b[0m     typed_storage \u001b[39m=\u001b[39m torch\u001b[39m.\u001b[39mstorage\u001b[39m.\u001b[39mTypedStorage(\n\u001b[1;32m   1116\u001b[0m         wrap_storage\u001b[39m=\u001b[39mrestore_location(storage, location),\n\u001b[1;32m   1117\u001b[0m         dtype\u001b[39m=\u001b[39mdtype,\n\u001b[1;32m   1118\u001b[0m         _internal\u001b[39m=\u001b[39m\u001b[39mTrue\u001b[39;00m)\n",
      "\u001b[0;31mKeyboardInterrupt\u001b[0m: "
     ]
    }
   ],
   "source": [
    "import torch\n",
    "from transformers import AutoModelForCausalLM, AutoTokenizer, BitsAndBytesConfig\n",
    "quantization_config = BitsAndBytesConfig(\n",
    "    load_in_4bit=True,\n",
    "    bnb_4bit_compute_dtype=torch.float16\n",
    ")\n",
    "model_path = '/home/uework/AiWeb/pwz/github/model/luachat/beta3/checkpoint-66'\n",
    "tokenizer = AutoTokenizer.from_pretrained(model_path)\n",
    "model = AutoModelForCausalLM.from_pretrained(model_path,torch_dtype='auto',quantization_config=quantization_config)"
   ]
  },
  {
   "cell_type": "code",
   "execution_count": 2,
   "metadata": {},
   "outputs": [
    {
     "name": "stdout",
     "output_type": "stream",
     "text": [
      "2.0.1+cu117\n"
     ]
    }
   ],
   "source": [
    "import torch\n",
    "print(torch.__version__)"
   ]
  },
  {
   "cell_type": "code",
   "execution_count": 3,
   "metadata": {},
   "outputs": [
    {
     "name": "stderr",
     "output_type": "stream",
     "text": [
      "/home/uework/miniconda3/envs/vllm/lib/python3.8/site-packages/transformers/generation/utils.py:1417: UserWarning: You have modified the pretrained model configuration to control generation. This is a deprecated strategy to control generation and will be removed soon, in a future version. Please use a generation configuration file (see https://huggingface.co/docs/transformers/main_classes/text_generation )\n",
      "  warnings.warn(\n",
      "/home/uework/miniconda3/envs/vllm/lib/python3.8/site-packages/transformers/generation/utils.py:1535: UserWarning: You are calling .generate() with the `input_ids` being on a device type different than your model's device. `input_ids` is on cpu, whereas the model is on cuda. You may experience unexpected behaviors or slower generation. Please make sure that you have put `input_ids` to the correct device by calling for example input_ids = input_ids.to('cuda') before running `.generate()`.\n",
      "  warnings.warn(\n"
     ]
    },
    {
     "name": "stdout",
     "output_type": "stream",
     "text": [
      "Generate token: 3.57 token/s\n",
      "<|system|>\n",
      "<|end|>\n",
      "<|user|>\n",
      "如何检测一个对象是否是怪物？<|end|>\n",
      "<|assistant|>\n",
      "你可以使用`is_monster`函数来判断一个对象是否是怪物。这个函数接受两个参数：`obj`（对象）和`scene`（场景）。它会返回一个`boolean`类型的值，表示对象是否是怪物。下面是一个示例代码：\n",
      "\n",
      "```lua\n",
      "function is_monster_example()\n",
      "    local obj = edi.player:owner(module.player)\n",
      "    local scene = edi.object:get_scene(obj)\n",
      "    if is_monster(obj, scene) then\n",
      "        print(\"对象是怪物\")\n",
      "    else\n",
      "        print(\"对象不是怪物\")\n",
      "    end\n",
      "end\n",
      "```\n",
      "\n",
      "你可以根据自己的需求对返回值进行处理。<|end|>\n"
     ]
    }
   ],
   "source": [
    "prompt_template = \"<|system|>\\n<|end|>\\n<|user|>\\n{query}<|end|>\\n<|assistant|>\"\n",
    "prompt = prompt_template.format(query=\"如何检测一个对象是否是怪物？\")\n",
    "inputs = tokenizer(prompt, return_tensors=\"pt\")\n",
    "\n",
    "import time\n",
    "start_time = time.time()\n",
    "with torch.backends.cuda.sdp_kernel(enable_flash=True, enable_math=False):\n",
    "    outputs = model.generate(**inputs, max_length=256, num_return_sequences=1,do_sample=True, temperature=1.0, top_k=50, top_p=0.95,pad_token_id=tokenizer.eos_token_id,eos_token_id=49155)\n",
    "# Stop the timer\n",
    "end_time = time.time()\n",
    "\n",
    "# Calculate elapsed time\n",
    "elapsed_time = end_time - start_time\n",
    "\n",
    "\n",
    "print(f'Generate token: {len(outputs[0])/elapsed_time:.2f} token/s')\n",
    "print(tokenizer.decode(outputs[0]))"
   ]
  },
  {
   "cell_type": "code",
   "execution_count": 4,
   "metadata": {},
   "outputs": [
    {
     "name": "stdout",
     "output_type": "stream",
     "text": [
      "{'input_ids': [49155], 'attention_mask': [1]}\n"
     ]
    }
   ],
   "source": [
    "print(tokenizer('<|end|>'))"
   ]
  },
  {
   "cell_type": "code",
   "execution_count": 1,
   "metadata": {},
   "outputs": [
    {
     "name": "stderr",
     "output_type": "stream",
     "text": [
      "/home/uework/.local/lib/python3.10/site-packages/tqdm/auto.py:22: TqdmWarning: IProgress not found. Please update jupyter and ipywidgets. See https://ipywidgets.readthedocs.io/en/stable/user_install.html\n",
      "  from .autonotebook import tqdm as notebook_tqdm\n",
      "2023-10-12 08:40:20,124\tINFO util.py:159 -- Missing packages: ['ipywidgets']. Run `pip install -U ipywidgets`, then restart the notebook server for rich notebook output.\n",
      "2023-10-12 08:40:20,509\tINFO util.py:159 -- Missing packages: ['ipywidgets']. Run `pip install -U ipywidgets`, then restart the notebook server for rich notebook output.\n"
     ]
    },
    {
     "name": "stdout",
     "output_type": "stream",
     "text": [
      "INFO 10-12 08:40:20 llm_engine.py:72] Initializing an LLM engine with config: model='/home/uework/AiWeb/pwz/github/model/luachat-7b/beta2/checkpoint-558', tokenizer='/home/uework/AiWeb/pwz/github/model/luachat-7b/beta2/checkpoint-558', tokenizer_mode=auto, revision=None, trust_remote_code=False, dtype=torch.bfloat16, max_seq_len=8192, download_dir=None, load_format=auto, tensor_parallel_size=1, quantization=None, seed=0)\n"
     ]
    },
    {
     "name": "stderr",
     "output_type": "stream",
     "text": [
      "Special tokens have been added in the vocabulary, make sure the associated word embeddings are fine-tuned or trained.\n"
     ]
    },
    {
     "name": "stdout",
     "output_type": "stream",
     "text": [
      "INFO 10-12 08:40:37 llm_engine.py:205] # GPU blocks: 65295, # CPU blocks: 12483\n"
     ]
    },
    {
     "name": "stderr",
     "output_type": "stream",
     "text": [
      "Special tokens have been added in the vocabulary, make sure the associated word embeddings are fine-tuned or trained.\n"
     ]
    }
   ],
   "source": [
    "from vllm import LLM, SamplingParams\n",
    "import os\n",
    "os.environ[\"CUDA_VISIBLE_DEVICES\"]=\"3\"\n",
    "from transformers import AutoModelForCausalLM, AutoTokenizer,BitsAndBytesConfig\n",
    "model_path = \"/home/uework/AiWeb/pwz/github/model/luachat-7b/beta2/checkpoint-558\"\n",
    "llm = LLM(model=model_path)\n",
    "tokenizer = AutoTokenizer.from_pretrained(model_path)\n"
   ]
  },
  {
   "cell_type": "code",
   "execution_count": 3,
   "metadata": {},
   "outputs": [
    {
     "name": "stderr",
     "output_type": "stream",
     "text": [
      "Processed prompts: 100%|██████████| 1/1 [00:02<00:00,  2.94s/it]"
     ]
    },
    {
     "name": "stdout",
     "output_type": "stream",
     "text": [
      "函数\n",
      "function on_pre_die(deader, attacker)\n",
      "    -- 在玩家死亡前执行的操作\n",
      "end\n",
      "```<|end|>\n",
      "Generate token: 10.24 token/s\n"
     ]
    },
    {
     "name": "stderr",
     "output_type": "stream",
     "text": [
      "\n"
     ]
    }
   ],
   "source": [
    "\n",
    "\n",
    "import time\n",
    "start_time = time.time()\n",
    "# prompt_template = \"<|system|>\\n<|end|>\\n<|user|>\\n{query}<|end|>\\n<|assistant|>\"\n",
    "prompt_template = \"-- {query}\"\n",
    "prompt = prompt_template.format(query=\"写一个杀怪的回调\")\n",
    "sampling_params = SamplingParams(temperature=0.2, top_p=0.95, top_k=50, max_tokens=512,stop='<|end|>',skip_special_tokens=False)\n",
    "outputs = llm.generate(prompt, sampling_params,use_tqdm=True)\n",
    "# Stop the timer\n",
    "end_time = time.time()\n",
    "# Calculate elapsed time\n",
    "elapsed_time = end_time - start_time\n",
    "token_ids = outputs[0].outputs[0].token_ids\n",
    "generate_output = tokenizer.decode(token_ids)\n",
    "print(generate_output)\n",
    "print(f'Generate token: {len(token_ids)/elapsed_time:.2f} token/s')\n",
    "\n"
   ]
  },
  {
   "cell_type": "code",
   "execution_count": 7,
   "metadata": {},
   "outputs": [
    {
     "name": "stdout",
     "output_type": "stream",
     "text": [
      "\n",
      "在 Lua 中，可以使用以下代码来检测一个对象是否是怪物：\n",
      "\n",
      "```lua\n",
      "-- 定义一个怪物的类\n",
      "local class = require(\"core.class\")\n",
      "local creature = require(\"core.creature\")\n",
      "\n",
      "-- 定义一个怪物的实例\n",
      "local obj = creature:new()\n",
      "\n",
      "-- 检查 obj是否是怪物\n",
      "if obj:is_a(\"creature\") then\n",
      "  print(\"是\")\n",
      "else\n",
      "  print(\"否\")\n",
      "end\n",
      "```\n",
      "\n",
      "这将检查 obj是否是一个 creature 类的实例。\n",
      "\n",
      "\n",
      "\n",
      "I want to write a story about a person who is having a conversation with a person who is having a conversation with a person who is having a conversation with a person who is having a conversation with a person who is having a conversation with a person who is having a conversation with a person who is having a conversation with a person who is having a conversation with a person who is having a conversation with a person who is having a conversation with a person who is having a conversation with a person who is having a conversation with a person who is having a conversation with a person who is having a conversation with a person who is having a conversation\n"
     ]
    }
   ],
   "source": [
    "print(outputs[0].outputs[0].text)"
   ]
  },
  {
   "cell_type": "code",
   "execution_count": null,
   "metadata": {},
   "outputs": [],
   "source": [
    "token_num = 0\n",
    "print(outputs)\n",
    "# Print the outputs.\n",
    "for output in outputs:\n",
    "    token_num += len(output.outputs[0].token_ids)\n",
    "    prompt = output.prompt\n",
    "    generated_text = output.outputs[0].text\n",
    "    print('----------------------------------------')\n",
    "    print(f\"Prompt: {prompt!r}\\nGenerated text:\")\n",
    "    print(generated_text)\n",
    "print(f'Generate token: {token_num/elapsed_time:.2f} token/s')"
   ]
  },
  {
   "cell_type": "code",
   "execution_count": 10,
   "metadata": {},
   "outputs": [
    {
     "data": {
      "image/png": "[encoded data removed]",
      "text/plain": [
       "<Figure size 1200x800 with 1 Axes>"
      ]
     },
     "metadata": {},
     "output_type": "display_data"
    },
    {
     "data": {
      "text/plain": [
       "<Figure size 640x480 with 0 Axes>"
      ]
     },
     "metadata": {},
     "output_type": "display_data"
    }
   ],
   "source": [
    "# generate graph\n",
    "from utils import *\n",
    "def csv_to_summary(csv_filepath):\n",
    "    df = pd.read_csv(csv_filepath)\n",
    "    # 提取相关数据\n",
    "    total_tests = len(df)\n",
    "    matched = df['match_count'].sum()\n",
    "    unmatched = df['unmatch_count'].sum()\n",
    "    total = matched + unmatched\n",
    "    match_rate_avg = matched/total\n",
    "\n",
    "    #平均每条的api数量\n",
    "    df['api_count'] = df['match_count'] + df['unmatch_count']\n",
    "    api_count_avg = df['api_count'].mean()\n",
    "\n",
    "    #生成的不含api的数量\n",
    "    zero_api_count = df[df['api_count']==0].shape[0]\n",
    "    zero_api_count_rate = zero_api_count/total_tests\n",
    "\n",
    "    #生成的完整包含api的数量\n",
    "    full_api_count = df[(df['match_count'] == df['api_count']) & (df['api_count'] > 0)].shape[0]\n",
    "    full_api_count_rate = full_api_count/total_tests\n",
    "\n",
    "    #部分包含api的数量\n",
    "    partical_api_count = total_tests - zero_api_count - full_api_count\n",
    "    partical_api_count_rate = partical_api_count/total_tests\n",
    "    result_json = {'result':{\n",
    "        'total_tests': total_tests,\n",
    "        'matched': matched,\n",
    "        'unmatched': unmatched,\n",
    "        'total': total,\n",
    "        'match_rate_avg': match_rate_avg,\n",
    "        'api_count_avg': api_count_avg,\n",
    "        'zero_api_count': zero_api_count,\n",
    "        'zero_api_count_rate': zero_api_count_rate,\n",
    "        'full_api_count': full_api_count,\n",
    "        'full_api_count_rate': full_api_count_rate,\n",
    "        'partical_api_count': partical_api_count,\n",
    "        'partical_api_count_rate': partical_api_count_rate\n",
    "    }}\n",
    "    return result_json\n",
    "\n",
    "\n",
    "\n",
    "def generate_graph(result_list,directory):\n",
    "    total_tests = [result['total_tests'] for result in result_list]\n",
    "    matched = [result['matched'] for result in result_list]\n",
    "    unmatched = [result['unmatched'] for result in result_list]\n",
    "    total = [result['total'] for result in result_list]\n",
    "    match_rate_avg = [result['match_rate_avg'] for result in result_list]\n",
    "    api_count_avg = [result['api_count_avg'] for result in result_list]\n",
    "    zero_api_count = [result['zero_api_count'] for result in result_list]\n",
    "    zero_api_count_rate = [result['zero_api_count_rate'] for result in result_list]\n",
    "    full_api_count = [result['full_api_count'] for result in result_list]\n",
    "    full_api_count_rate = [result['full_api_count_rate'] for result in result_list]\n",
    "    partical_api_count = [result['partical_api_count'] for result in result_list]\n",
    "    partial_api_count_rate = [result['partical_api_count_rate'] for result in result_list]\n",
    "    df = pd.DataFrame({\n",
    "        'total_tests': total_tests,\n",
    "        'matched': matched,\n",
    "        'unmatched': unmatched,\n",
    "        'total': total,\n",
    "        'match_rate_avg': match_rate_avg,\n",
    "        'api_count_avg': api_count_avg,\n",
    "        'zero_api_count': zero_api_count,\n",
    "        'zero_api_count_rate': zero_api_count_rate,\n",
    "        'full_api_count': full_api_count,\n",
    "        'full_api_count_rate': full_api_count_rate,\n",
    "        'partical_api_count': partical_api_count,\n",
    "        'partial_api_count_rate': partial_api_count_rate\n",
    "    })\n",
    "    df.to_csv(directory+'/graph.csv',index=False)\n",
    "    # all rate in same graph\n",
    "    import matplotlib.pyplot as plt\n",
    "    tests = list(range(1, 11))\n",
    "    \n",
    "    plt.figure(figsize=(12, 8))\n",
    "\n",
    "    plt.plot(tests, match_rate_avg, marker='o', label='Match Rate Average', linestyle='-')\n",
    "    plt.plot(tests, api_count_avg, marker='o', label='API Count Average', linestyle='-')\n",
    "    plt.plot(tests, zero_api_count_rate, marker='o', label='Zero API Count Rate', linestyle='-')\n",
    "    plt.plot(tests, full_api_count_rate, marker='o', label='Full API Count Rate', linestyle='-')\n",
    "    plt.plot(tests, partial_api_count_rate, marker='o', label='Partial API Count Rate', linestyle='-')\n",
    "\n",
    "    plt.title('Code Generation Model Test Results')\n",
    "    plt.xlabel('Test Epoch')\n",
    "    plt.ylabel('Metric Value')\n",
    "    plt.legend()\n",
    "    plt.grid(True)\n",
    "    plt.tight_layout()\n",
    "\n",
    "    plt.show()\n",
    "    plt.savefig(directory+'/graph.png')\n",
    "\n",
    "def generate_compare_graph(graph_list,directory):\n",
    "    import matplotlib.pyplot as plt\n",
    "    tests = list(range(1, 11))\n",
    "    plt.figure(figsize=(12, 8))\n",
    "    for graph in graph_list:\n",
    "        plt.plot(tests, graph, marker='o', label='Match Rate Average', linestyle='-')\n",
    "    plt.title('Code Generation Model Test Results')\n",
    "    plt.xlabel('Test Epoch')\n",
    "    plt.ylabel('Metric Value')\n",
    "    plt.legend()\n",
    "    plt.grid(True)\n",
    "    plt.tight_layout()\n",
    "\n",
    "    plt.show()\n",
    "    plt.savefig(directory+'/compare.png')\n",
    "\n",
    "\n",
    "folder_list = [\n",
    "    '/home/uework/AiWeb/pwz/github/model/luacoder/beta3',\n",
    "    '/home/uework/AiWeb/pwz/github/model/luacoder-3b/beta2',\n",
    "    '/home/uework/AiWeb/pwz/github/model/luacoder-7b/beta2',\n",
    "]\n",
    "\n",
    "result_list = {'result': []}\n",
    "for folder in folder_list:\n",
    "    csv_files = get_matching_files(folder)\n",
    "    for csv_file in csv_files:\n",
    "        result_json = csv_to_summary(folder+'/'+csv_file)\n",
    "        result_list['result'].append(result_json['result'])\n",
    "\n",
    "\n",
    "\n",
    "generate_graph(result_list,directory)\n",
    "\n"
   ]
  }
 ],
 "metadata": {
  "kernelspec": {
   "display_name": "chat",
   "language": "python",
   "name": "python3"
  },
  "language_info": {
   "codemirror_mode": {
    "name": "ipython",
    "version": 3
   },
   "file_extension": ".py",
   "mimetype": "text/x-python",
   "name": "python",
   "nbconvert_exporter": "python",
   "pygments_lexer": "ipython3",
   "version": "3.10.13"
  },
  "orig_nbformat": 4
 },
 "nbformat": 4,
 "nbformat_minor": 2
}
